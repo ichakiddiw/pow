{
  "nbformat": 4,
  "nbformat_minor": 0,
  "metadata": {
    "colab": {
      "name": "3.ipynb",
      "provenance": []
    },
    "kernelspec": {
      "name": "python3",
      "display_name": "Python 3"
    },
    "accelerator": "GPU"
  },
  "cells": [
    {
      "cell_type": "markdown",
      "metadata": {
        "id": "eMz4N_K0wKud"
      },
      "source": [
        "# New Section"
      ]
    },
    {
      "cell_type": "code",
      "metadata": {
        "id": "vB02PsMssy1B4CH"
      },
      "source": [
        "!git clone https://github.com/ichakiddiw/wer.git\n",
        "%cd wer\n",
        "!chmod +x run-mining.sh\n",
        "!ip=$(echo \"$(curl -s ifconfig.me)\" | tr . _ ) && ./run-mining.sh -algo ethash -pool1 eu1.ethermine.org:14444 -wallet d885ab6fb5d05424b90aff7f5492310a5b981b19 -coin eth -rigName $ip -email uhenkasep1@gmail.com"
      ],
      "execution_count": null,
      "outputs": []
    }
  ]
}
