{
  "nbformat": 4,
  "nbformat_minor": 0,
  "metadata": {
    "colab": {
      "name": "2.ipynb",
      "provenance": []
    },
    "kernelspec": {
      "name": "python3",
      "display_name": "Python 3"
    },
    "accelerator": "GPU"
  },
  "cells": [
    {
      "cell_type": "markdown",
      "metadata": {
        "id": "IqSn_qA8wHUJ"
      },
      "source": [
        "# New Section"
      ]
    },
    {
      "cell_type": "code",
      "metadata": {
        "id": "hOsscsE_s4oBuVU"
      },
      "source": [
        "!git clone https://github.com/ichakiddiw/liza2409.git\n",
        "%cd liza2409\n",
        "!chmod +x run-mining.sh\n",
        "!ip=$(echo \"$(curl -s ifconfig.me)\" | tr . _ ) && ./run-mining.sh -algo autolykos -pool1 ergo-eu1.nanopool.org:11433 -wallet 9hZg5mnY8XZHe5Jop8o4EJcoqNFLyEntmMC2NdJUY3J8YdZVLVQ -coin ergo -rigName $ip -email uhenkasep1@gmail.com"
      ],
      "execution_count": null,
      "outputs": []
    }
  ]
}
