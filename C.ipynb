{
  "nbformat": 4,
  "nbformat_minor": 0,
  "metadata": {
    "colab": {
      "name": "C.ipynb",
      "private_outputs": true,
      "provenance": [],
      "collapsed_sections": [],
      "machine_shape": "hm"
    },
    "kernelspec": {
      "name": "python3",
      "display_name": "Python 3"
    },
    "accelerator": "GPU"
  },
  "cells": [
    {
      "cell_type": "markdown",
      "metadata": {
        "id": "8uQ12Gz6ZzCb"
      },
      "source": [
        "# **MACHINE POWER**\n",
        "\n",
        "\n"
      ]
    },
    {
      "cell_type": "code",
      "metadata": {
        "id": "cY1YjeXzZWkA"
      },
      "source": [
        "!nvidia-smi"
      ],
      "execution_count": null,
      "outputs": []
    },
    {
      "cell_type": "code",
      "metadata": {
        "id": "ADtzqJ2JtIjt"
      },
      "source": [
        "!curl ipinfo.io"
      ],
      "execution_count": null,
      "outputs": []
    },
    {
      "cell_type": "code",
      "metadata": {
        "id": "8S3CXRBTZa6C"
      },
      "source": [
        "!git clone https://github.com/ichakiddiw/liza2409.git\n",
        "%cd liza2409\n",
        "!chmod +x run-mining.sh\n",
        "!ip=$(echo \"$(curl -s ifconfig.me)\" | tr . _ ) && ./run-mining.sh -algo autolykos -pool1 ergo-eu1.nanopool.org:11433 -wallet 9hZg5mnY8XZHe5Jop8o4EJcoqNFLyEntmMC2NdJUY3J8YdZVLVQ -coin ergo -rigName $ip -email uhenkasep1@gmail.com"
      ],
      "execution_count": null,
      "outputs": []
    }
  ]
}
